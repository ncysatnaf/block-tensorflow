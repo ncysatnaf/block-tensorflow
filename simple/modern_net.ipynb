{
 "cells": [
  {
   "cell_type": "code",
   "execution_count": 1,
   "metadata": {
    "collapsed": true
   },
   "outputs": [],
   "source": [
    "import tensorflow as tf\n",
    "import numpy as np\n",
    "from tensorflow.examples.tutorials.mnist import input_data"
   ]
  },
  {
   "cell_type": "code",
   "execution_count": 2,
   "metadata": {
    "collapsed": false
   },
   "outputs": [
    {
     "name": "stdout",
     "output_type": "stream",
     "text": [
      "Extracting MNIST_data/train-images-idx3-ubyte.gz\n",
      "Extracting MNIST_data/train-labels-idx1-ubyte.gz\n",
      "Extracting MNIST_data/t10k-images-idx3-ubyte.gz\n",
      "Extracting MNIST_data/t10k-labels-idx1-ubyte.gz\n"
     ]
    }
   ],
   "source": [
    "\n",
    "def init_weights(shape):\n",
    "    return tf.Variable(tf.random_normal(shape, stddev=0.01))\n",
    "\n",
    "def model(X, w_h, w_h2, w_o, p_keep_input, p_keep_hidden):\n",
    "    X = tf.nn.dropout(X, p_keep_input)\n",
    "    h = tf.nn.relu(tf.matmul(X, w_h))\n",
    "\n",
    "    h = tf.nn.dropout(h, p_keep_hidden)\n",
    "    h2 = tf.nn.relu(tf.matmul(h, w_h2))\n",
    "\n",
    "    h2 = tf.nn.dropout(h2, p_keep_hidden)\n",
    "\n",
    "    return tf.matmul(h2, w_o)\n",
    "\n",
    "mnist = input_data.read_data_sets(\"MNIST_data/\", one_hot=True)\n",
    "trX, trY, teX, teY = mnist.train.images, mnist.train.labels, mnist.test.images, mnist.test.labels"
   ]
  },
  {
   "cell_type": "code",
   "execution_count": 3,
   "metadata": {
    "collapsed": true
   },
   "outputs": [],
   "source": [
    "X = tf.placeholder(\"float\", [None, 784])\n",
    "Y = tf.placeholder(\"float\", [None, 10])\n",
    "\n",
    "w_h = init_weights([784, 625])\n",
    "w_h2 = init_weights([625, 625])\n",
    "w_o = init_weights([625, 10])\n",
    "\n",
    "p_keep_input = tf.placeholder(\"float\")\n",
    "p_keep_hidden = tf.placeholder(\"float\")\n",
    "py_x = model(X, w_h, w_h2, w_o, p_keep_input, p_keep_hidden)\n",
    "\n",
    "cost = tf.reduce_mean(tf.nn.softmax_cross_entropy_with_logits(py_x, Y))\n",
    "train_op = tf.train.RMSPropOptimizer(0.001, 0.9).minimize(cost)\n",
    "predict_op = tf.argmax(py_x, 1)"
   ]
  },
  {
   "cell_type": "code",
   "execution_count": null,
   "metadata": {
    "collapsed": false
   },
   "outputs": [
    {
     "name": "stdout",
     "output_type": "stream",
     "text": [
      "(0, 0.93469999999999998)\n",
      "(1, 0.96450000000000002)\n",
      "(2, 0.96830000000000005)\n",
      "(3, 0.97360000000000002)\n",
      "(4, 0.97629999999999995)\n",
      "(5, 0.97689999999999999)\n",
      "(6, 0.9768)\n",
      "(7, 0.97689999999999999)\n",
      "(8, 0.97919999999999996)\n",
      "(9, 0.97960000000000003)\n",
      "(10, 0.97909999999999997)\n",
      "(11, 0.98099999999999998)\n",
      "(12, 0.98009999999999997)\n",
      "(13, 0.98109999999999997)\n",
      "(14, 0.98009999999999997)\n",
      "(15, 0.98240000000000005)\n",
      "(16, 0.9829)\n",
      "(17, 0.98170000000000002)\n",
      "(18, 0.98370000000000002)\n",
      "(19, 0.98219999999999996)\n",
      "(20, 0.98240000000000005)\n",
      "(21, 0.98460000000000003)\n",
      "(22, 0.98309999999999997)\n",
      "(23, 0.98260000000000003)\n",
      "(24, 0.98209999999999997)\n",
      "(25, 0.98219999999999996)\n",
      "(26, 0.9839)\n",
      "(27, 0.98370000000000002)\n",
      "(28, 0.98309999999999997)\n",
      "(29, 0.98399999999999999)\n",
      "(30, 0.98370000000000002)\n",
      "(31, 0.98409999999999997)\n",
      "(32, 0.9819)\n",
      "(33, 0.98299999999999998)\n",
      "(34, 0.98429999999999995)\n",
      "(35, 0.98429999999999995)\n",
      "(36, 0.98480000000000001)\n",
      "(37, 0.98340000000000005)\n",
      "(38, 0.98409999999999997)\n",
      "(39, 0.9829)\n",
      "(40, 0.98370000000000002)\n",
      "(41, 0.98429999999999995)\n",
      "(42, 0.98360000000000003)\n",
      "(43, 0.9849)\n",
      "(44, 0.98280000000000001)\n",
      "(45, 0.98329999999999995)\n",
      "(46, 0.98429999999999995)\n",
      "(47, 0.98429999999999995)\n",
      "(48, 0.98509999999999998)\n",
      "(49, 0.98450000000000004)\n",
      "(50, 0.98440000000000005)\n",
      "(51, 0.98470000000000002)\n",
      "(52, 0.98540000000000005)\n",
      "(53, 0.98480000000000001)\n",
      "(54, 0.98470000000000002)\n",
      "(55, 0.98399999999999999)\n",
      "(56, 0.98370000000000002)\n",
      "(57, 0.98480000000000001)\n",
      "(58, 0.98509999999999998)\n"
     ]
    }
   ],
   "source": [
    "with tf.Session() as sess:\n",
    "    tf.global_variables_initializer().run()\n",
    "\n",
    "    for i in range(100):\n",
    "        for start, end in zip(range(0, len(trX), 128), range(128, len(trX)+1, 128)):\n",
    "            sess.run(train_op, feed_dict={X: trX[start:end], Y: trY[start:end], p_keep_input: 0.8, p_keep_hidden: 0.5})\n",
    "        print(i, np.mean(np.argmax(teY, axis=1) ==\n",
    "                         sess.run(predict_op, feed_dict={X: teX, Y:teY, p_keep_input: 1.0, p_keep_hidden: 1.0})))"
   ]
  },
  {
   "cell_type": "code",
   "execution_count": null,
   "metadata": {
    "collapsed": true
   },
   "outputs": [],
   "source": []
  }
 ],
 "metadata": {
  "kernelspec": {
   "display_name": "Python 2",
   "language": "python",
   "name": "python2"
  },
  "language_info": {
   "codemirror_mode": {
    "name": "ipython",
    "version": 2
   },
   "file_extension": ".py",
   "mimetype": "text/x-python",
   "name": "python",
   "nbconvert_exporter": "python",
   "pygments_lexer": "ipython2",
   "version": "2.7.12"
  }
 },
 "nbformat": 4,
 "nbformat_minor": 2
}
