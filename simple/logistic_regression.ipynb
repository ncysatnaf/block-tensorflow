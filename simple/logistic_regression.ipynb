{
 "cells": [
  {
   "cell_type": "code",
   "execution_count": 1,
   "metadata": {
    "collapsed": true
   },
   "outputs": [],
   "source": [
    "import tensorflow as tf\n",
    "import numpy as np\n",
    "from tensorflow.examples.tutorials.mnist import input_data"
   ]
  },
  {
   "cell_type": "code",
   "execution_count": 2,
   "metadata": {
    "collapsed": false
   },
   "outputs": [
    {
     "name": "stdout",
     "output_type": "stream",
     "text": [
      "Extracting MNIST_data/train-images-idx3-ubyte.gz\n",
      "Extracting MNIST_data/train-labels-idx1-ubyte.gz\n",
      "Extracting MNIST_data/t10k-images-idx3-ubyte.gz\n",
      "Extracting MNIST_data/t10k-labels-idx1-ubyte.gz\n"
     ]
    }
   ],
   "source": [
    "def init_weights(shape):\n",
    "    return tf.Variable(tf.random_normal(shape, stddev=0.01))\n",
    "\n",
    "def model(X, w):\n",
    "    return tf.matmul(X, w)\n",
    "\n",
    "mnist = input_data.read_data_sets(\"MNIST_data/\", one_hot=True)\n",
    "trX, trY, teX, teY = mnist.train.images, mnist.train.labels, mnist.test.images, mnist.test.labels"
   ]
  },
  {
   "cell_type": "code",
   "execution_count": 3,
   "metadata": {
    "collapsed": true
   },
   "outputs": [],
   "source": [
    "X = tf.placeholder(tf.float32, [None, 784])\n",
    "Y = tf.placeholder(tf.float32, [None, 10])\n",
    "\n",
    "w = init_weights([784, 10])\n",
    "\n",
    "py_x = model(X, w)\n",
    "\n",
    "cost = tf.reduce_mean(tf.nn.softmax_cross_entropy_with_logits(py_x, Y))\n",
    "train_op = tf.train.GradientDescentOptimizer(0.05).minimize(cost)\n",
    "predict_op = tf.argmax(py_x, 1)"
   ]
  },
  {
   "cell_type": "code",
   "execution_count": 4,
   "metadata": {
    "collapsed": false
   },
   "outputs": [
    {
     "name": "stdout",
     "output_type": "stream",
     "text": [
      "(0, 0.88400000000000001)\n",
      "(1, 0.8972)\n",
      "(2, 0.90369999999999995)\n",
      "(3, 0.90710000000000002)\n",
      "(4, 0.90890000000000004)\n",
      "(5, 0.91080000000000005)\n",
      "(6, 0.91210000000000002)\n",
      "(7, 0.91369999999999996)\n",
      "(8, 0.91490000000000005)\n",
      "(9, 0.9153)\n",
      "(10, 0.91579999999999995)\n",
      "(11, 0.91620000000000001)\n",
      "(12, 0.91710000000000003)\n",
      "(13, 0.91720000000000002)\n",
      "(14, 0.9173)\n",
      "(15, 0.91810000000000003)\n",
      "(16, 0.91830000000000001)\n",
      "(17, 0.91879999999999995)\n",
      "(18, 0.9194)\n",
      "(19, 0.91949999999999998)\n",
      "(20, 0.91969999999999996)\n",
      "(21, 0.91979999999999995)\n",
      "(22, 0.92010000000000003)\n",
      "(23, 0.92010000000000003)\n",
      "(24, 0.9204)\n",
      "(25, 0.92059999999999997)\n",
      "(26, 0.92110000000000003)\n",
      "(27, 0.92079999999999995)\n",
      "(28, 0.92120000000000002)\n",
      "(29, 0.92159999999999997)\n",
      "(30, 0.92159999999999997)\n",
      "(31, 0.92169999999999996)\n",
      "(32, 0.92169999999999996)\n",
      "(33, 0.92130000000000001)\n",
      "(34, 0.9214)\n",
      "(35, 0.9214)\n",
      "(36, 0.92179999999999995)\n",
      "(37, 0.92169999999999996)\n",
      "(38, 0.92210000000000003)\n",
      "(39, 0.92210000000000003)\n",
      "(40, 0.92210000000000003)\n",
      "(41, 0.92200000000000004)\n",
      "(42, 0.92210000000000003)\n",
      "(43, 0.92210000000000003)\n",
      "(44, 0.92200000000000004)\n",
      "(45, 0.92210000000000003)\n",
      "(46, 0.92220000000000002)\n",
      "(47, 0.92230000000000001)\n",
      "(48, 0.92230000000000001)\n",
      "(49, 0.92220000000000002)\n",
      "(50, 0.9224)\n",
      "(51, 0.9224)\n",
      "(52, 0.9224)\n",
      "(53, 0.92249999999999999)\n",
      "(54, 0.9224)\n",
      "(55, 0.92279999999999995)\n",
      "(56, 0.92279999999999995)\n",
      "(57, 0.92279999999999995)\n",
      "(58, 0.92290000000000005)\n",
      "(59, 0.92290000000000005)\n",
      "(60, 0.92320000000000002)\n",
      "(61, 0.92320000000000002)\n",
      "(62, 0.92330000000000001)\n",
      "(63, 0.9234)\n",
      "(64, 0.92359999999999998)\n",
      "(65, 0.92359999999999998)\n",
      "(66, 0.92359999999999998)\n",
      "(67, 0.92379999999999995)\n",
      "(68, 0.92359999999999998)\n",
      "(69, 0.92359999999999998)\n",
      "(70, 0.92349999999999999)\n",
      "(71, 0.92349999999999999)\n",
      "(72, 0.92359999999999998)\n",
      "(73, 0.92369999999999997)\n",
      "(74, 0.92379999999999995)\n",
      "(75, 0.92390000000000005)\n",
      "(76, 0.92390000000000005)\n",
      "(77, 0.92390000000000005)\n",
      "(78, 0.92400000000000004)\n",
      "(79, 0.92400000000000004)\n",
      "(80, 0.92400000000000004)\n",
      "(81, 0.92390000000000005)\n",
      "(82, 0.92369999999999997)\n",
      "(83, 0.92359999999999998)\n",
      "(84, 0.92359999999999998)\n",
      "(85, 0.92349999999999999)\n",
      "(86, 0.92359999999999998)\n",
      "(87, 0.9234)\n",
      "(88, 0.92349999999999999)\n",
      "(89, 0.92359999999999998)\n",
      "(90, 0.92359999999999998)\n",
      "(91, 0.92359999999999998)\n",
      "(92, 0.92369999999999997)\n",
      "(93, 0.92369999999999997)\n",
      "(94, 0.92349999999999999)\n",
      "(95, 0.92349999999999999)\n",
      "(96, 0.92359999999999998)\n",
      "(97, 0.92369999999999997)\n",
      "(98, 0.92369999999999997)\n",
      "(99, 0.92359999999999998)\n"
     ]
    }
   ],
   "source": [
    "with tf.Session() as sess:\n",
    "    tf.global_variables_initializer().run()\n",
    "\n",
    "    for i in range(100):\n",
    "        for start, end in zip(range(0, len(trX), 128), range(128, len(trX)+1, 128)):\n",
    "            sess.run(train_op, feed_dict={X: trX[start:end], Y: trY[start:end]})\n",
    "        print(i, np.mean(np.argmax(teY, axis=1) ==\n",
    "                         sess.run(predict_op, feed_dict={X: teX})))"
   ]
  },
  {
   "cell_type": "code",
   "execution_count": null,
   "metadata": {
    "collapsed": true
   },
   "outputs": [],
   "source": []
  }
 ],
 "metadata": {
  "kernelspec": {
   "display_name": "Python 2",
   "language": "python",
   "name": "python2"
  },
  "language_info": {
   "codemirror_mode": {
    "name": "ipython",
    "version": 2
   },
   "file_extension": ".py",
   "mimetype": "text/x-python",
   "name": "python",
   "nbconvert_exporter": "python",
   "pygments_lexer": "ipython2",
   "version": "2.7.12"
  }
 },
 "nbformat": 4,
 "nbformat_minor": 2
}
