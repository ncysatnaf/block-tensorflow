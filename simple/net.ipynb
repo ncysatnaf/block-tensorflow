{
 "cells": [
  {
   "cell_type": "code",
   "execution_count": 1,
   "metadata": {
    "collapsed": true
   },
   "outputs": [],
   "source": [
    "import tensorflow as tf\n",
    "import numpy as np\n",
    "from tensorflow.examples.tutorials.mnist import input_data"
   ]
  },
  {
   "cell_type": "code",
   "execution_count": 6,
   "metadata": {
    "collapsed": false
   },
   "outputs": [
    {
     "name": "stdout",
     "output_type": "stream",
     "text": [
      "Extracting MNIST_data/train-images-idx3-ubyte.gz\n",
      "Extracting MNIST_data/train-labels-idx1-ubyte.gz\n",
      "Extracting MNIST_data/t10k-images-idx3-ubyte.gz\n",
      "Extracting MNIST_data/t10k-labels-idx1-ubyte.gz\n"
     ]
    }
   ],
   "source": [
    "def init_weights(shape):\n",
    "    return tf.Variable(tf.random_normal(shape, stddev=0.01))\n",
    "\n",
    "def model(X, w_h, w_o):\n",
    "    h = tf.nn.sigmoid(tf.matmul(X, w_h))\n",
    "    \n",
    "    return tf.matmul(h, w_o)\n",
    "\n",
    "mnist = input_data.read_data_sets(\"MNIST_data/\", one_hot=True)\n",
    "trX, trY, teX, teY = mnist.train.images, mnist.train.labels, mnist.test.images, mnist.test.labels"
   ]
  },
  {
   "cell_type": "code",
   "execution_count": 7,
   "metadata": {
    "collapsed": false
   },
   "outputs": [],
   "source": [
    "X = tf.placeholder(\"float\", [None, 784])\n",
    "Y = tf.placeholder(\"float\", [None, 10])\n",
    "\n",
    "w_h = init_weights([784, 625])\n",
    "w_o = init_weights([625, 10])\n",
    "\n",
    "py_x = model(X, w_h, w_o)\n",
    "\n",
    "cost = tf.reduce_mean(tf.nn.softmax_cross_entropy_with_logits(py_x, Y))\n",
    "train_op = tf.train.GradientDescentOptimizer(0.05).minimize(cost)\n",
    "predict_op = tf.argmax(py_x, 1)"
   ]
  },
  {
   "cell_type": "code",
   "execution_count": 11,
   "metadata": {
    "collapsed": false
   },
   "outputs": [
    {
     "name": "stdout",
     "output_type": "stream",
     "text": [
      "(0, 0.69120000000000004)\n",
      "(1, 0.82189999999999996)\n",
      "(2, 0.86099999999999999)\n",
      "(3, 0.88)\n",
      "(4, 0.88859999999999995)\n",
      "(5, 0.89339999999999997)\n",
      "(6, 0.89790000000000003)\n",
      "(7, 0.90029999999999999)\n",
      "(8, 0.90339999999999998)\n",
      "(9, 0.9052)\n",
      "(10, 0.90800000000000003)\n",
      "(11, 0.90949999999999998)\n",
      "(12, 0.91100000000000003)\n",
      "(13, 0.91239999999999999)\n",
      "(14, 0.91449999999999998)\n",
      "(15, 0.91510000000000002)\n",
      "(16, 0.91559999999999997)\n",
      "(17, 0.91649999999999998)\n",
      "(18, 0.9173)\n",
      "(19, 0.91790000000000005)\n",
      "(20, 0.91859999999999997)\n",
      "(21, 0.91890000000000005)\n",
      "(22, 0.91959999999999997)\n",
      "(23, 0.92010000000000003)\n",
      "(24, 0.92059999999999997)\n",
      "(25, 0.92079999999999995)\n",
      "(26, 0.92100000000000004)\n",
      "(27, 0.92179999999999995)\n",
      "(28, 0.9224)\n",
      "(29, 0.92269999999999996)\n",
      "(30, 0.92290000000000005)\n",
      "(31, 0.9234)\n",
      "(32, 0.92400000000000004)\n",
      "(33, 0.92400000000000004)\n",
      "(34, 0.9244)\n",
      "(35, 0.92490000000000006)\n",
      "(36, 0.92520000000000002)\n",
      "(37, 0.92559999999999998)\n",
      "(38, 0.92620000000000002)\n",
      "(39, 0.92659999999999998)\n",
      "(40, 0.92700000000000005)\n",
      "(41, 0.92720000000000002)\n",
      "(42, 0.92759999999999998)\n",
      "(43, 0.92820000000000003)\n",
      "(44, 0.92879999999999996)\n",
      "(45, 0.92989999999999995)\n",
      "(46, 0.93020000000000003)\n",
      "(47, 0.93059999999999998)\n",
      "(48, 0.93140000000000001)\n",
      "(49, 0.93189999999999995)\n",
      "(50, 0.93279999999999996)\n",
      "(51, 0.93330000000000002)\n",
      "(52, 0.93430000000000002)\n",
      "(53, 0.93500000000000005)\n",
      "(54, 0.93640000000000001)\n",
      "(55, 0.93640000000000001)\n",
      "(56, 0.9365)\n",
      "(57, 0.93689999999999996)\n",
      "(58, 0.93779999999999997)\n",
      "(59, 0.93799999999999994)\n",
      "(60, 0.93820000000000003)\n",
      "(61, 0.93869999999999998)\n",
      "(62, 0.93940000000000001)\n",
      "(63, 0.93969999999999998)\n",
      "(64, 0.93999999999999995)\n",
      "(65, 0.9405)\n",
      "(66, 0.94130000000000003)\n",
      "(67, 0.94179999999999997)\n",
      "(68, 0.94189999999999996)\n",
      "(69, 0.94230000000000003)\n",
      "(70, 0.94289999999999996)\n",
      "(71, 0.94379999999999997)\n",
      "(72, 0.94420000000000004)\n",
      "(73, 0.94479999999999997)\n",
      "(74, 0.94510000000000005)\n",
      "(75, 0.94530000000000003)\n",
      "(76, 0.94589999999999996)\n",
      "(77, 0.94640000000000002)\n",
      "(78, 0.94710000000000005)\n",
      "(79, 0.94750000000000001)\n",
      "(80, 0.94810000000000005)\n",
      "(81, 0.94820000000000004)\n",
      "(82, 0.9486)\n",
      "(83, 0.94920000000000004)\n",
      "(84, 0.94969999999999999)\n",
      "(85, 0.94989999999999997)\n",
      "(86, 0.95040000000000002)\n",
      "(87, 0.95120000000000005)\n",
      "(88, 0.9516)\n",
      "(89, 0.95189999999999997)\n",
      "(90, 0.95250000000000001)\n",
      "(91, 0.95279999999999998)\n",
      "(92, 0.95299999999999996)\n",
      "(93, 0.95350000000000001)\n",
      "(94, 0.9536)\n",
      "(95, 0.95399999999999996)\n",
      "(96, 0.95420000000000005)\n",
      "(97, 0.95440000000000003)\n",
      "(98, 0.95479999999999998)\n",
      "(99, 0.95530000000000004)\n"
     ]
    }
   ],
   "source": [
    "with tf.Session() as sess:\n",
    "    tf.global_variables_initializer().run()\n",
    "    \n",
    "    for i in range(100):\n",
    "        for start, end in zip(range(0, len(trX), 128), range(128, len(trX) + 1, 128)):\n",
    "            sess.run(train_op, feed_dict={X: trX[start:end], Y: trY[start:end]})\n",
    "        print(i, np.mean(np.argmax(teY, axis=1) == sess.run(predict_op, feed_dict={X: teX})))"
   ]
  },
  {
   "cell_type": "code",
   "execution_count": null,
   "metadata": {
    "collapsed": true
   },
   "outputs": [],
   "source": []
  }
 ],
 "metadata": {
  "kernelspec": {
   "display_name": "Python 2",
   "language": "python",
   "name": "python2"
  },
  "language_info": {
   "codemirror_mode": {
    "name": "ipython",
    "version": 2
   },
   "file_extension": ".py",
   "mimetype": "text/x-python",
   "name": "python",
   "nbconvert_exporter": "python",
   "pygments_lexer": "ipython2",
   "version": "2.7.12"
  }
 },
 "nbformat": 4,
 "nbformat_minor": 2
}
