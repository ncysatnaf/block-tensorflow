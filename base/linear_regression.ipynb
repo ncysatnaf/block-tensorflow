{
 "cells": [
  {
   "cell_type": "code",
   "execution_count": 3,
   "metadata": {
    "collapsed": false
   },
   "outputs": [],
   "source": [
    "import tensorflow as tf\n",
    "import numpy\n",
    "import matplotlib.pyplot as plt\n",
    "rng = numpy.random"
   ]
  },
  {
   "cell_type": "code",
   "execution_count": 4,
   "metadata": {
    "collapsed": true
   },
   "outputs": [],
   "source": [
    "learning_rate = 0.01\n",
    "training_epochs = 1000\n",
    "display_step = 50"
   ]
  },
  {
   "cell_type": "code",
   "execution_count": 5,
   "metadata": {
    "collapsed": true
   },
   "outputs": [],
   "source": [
    "train_X = numpy.asarray([3.3,4.4,5.5,6.71,6.93,4.168,9.779,6.182,7.59,2.167,\n",
    "                         7.042,10.791,5.313,7.997,5.654,9.27,3.1])\n",
    "train_Y = numpy.asarray([1.7,2.76,2.09,3.19,1.694,1.573,3.366,2.596,2.53,1.221,\n",
    "                         2.827,3.465,1.65,2.904,2.42,2.94,1.3])\n",
    "n_samples = train_X.shape[0]"
   ]
  },
  {
   "cell_type": "code",
   "execution_count": 6,
   "metadata": {
    "collapsed": true
   },
   "outputs": [],
   "source": [
    "X = tf.placeholder(\"float\")\n",
    "Y = tf.placeholder(\"float\")\n",
    "\n",
    "W = tf.Variable(rng.randn(), name=\"weight\")\n",
    "b = tf.Variable(rng.randn(), name=\"bias\")"
   ]
  },
  {
   "cell_type": "code",
   "execution_count": 7,
   "metadata": {
    "collapsed": true
   },
   "outputs": [],
   "source": [
    "pred = tf.add(tf.mul(X, W), b)"
   ]
  },
  {
   "cell_type": "code",
   "execution_count": 8,
   "metadata": {
    "collapsed": true
   },
   "outputs": [],
   "source": [
    "cost = tf.reduce_sum(tf.pow(pred-Y, 2))/(2*n_samples)\n",
    "\n",
    "optimizer = tf.train.GradientDescentOptimizer(learning_rate).minimize(cost)"
   ]
  },
  {
   "cell_type": "code",
   "execution_count": 11,
   "metadata": {
    "collapsed": false
   },
   "outputs": [],
   "source": [
    "init = tf.global_variables_initializer()"
   ]
  },
  {
   "cell_type": "code",
   "execution_count": 16,
   "metadata": {
    "collapsed": false
   },
   "outputs": [
    {
     "name": "stdout",
     "output_type": "stream",
     "text": [
      "Epoch:    50 cost= 0.077066943 W= 0.244947 b= 0.834897\n",
      "Epoch:   100 cost= 0.077058546 W= 0.245223 b= 0.832908\n",
      "Epoch:   150 cost= 0.077051073 W= 0.245483 b= 0.831037\n",
      "Epoch:   200 cost= 0.077044457 W= 0.245728 b= 0.829278\n",
      "Epoch:   250 cost= 0.077038579 W= 0.245958 b= 0.827624\n",
      "Epoch:   300 cost= 0.077033363 W= 0.246174 b= 0.826067\n",
      "Epoch:   350 cost= 0.077028722 W= 0.246378 b= 0.824603\n",
      "Epoch:   400 cost= 0.077024624 W= 0.246569 b= 0.823226\n",
      "Epoch:   450 cost= 0.077020958 W= 0.246749 b= 0.821932\n",
      "Epoch:   500 cost= 0.077017717 W= 0.246918 b= 0.820715\n",
      "Epoch:   550 cost= 0.077014811 W= 0.247077 b= 0.819569\n",
      "Epoch:   600 cost= 0.077012248 W= 0.247227 b= 0.818491\n",
      "Epoch:   650 cost= 0.077009954 W= 0.247368 b= 0.817477\n",
      "Epoch:   700 cost= 0.077007942 W= 0.2475 b= 0.816525\n",
      "Epoch:   750 cost= 0.077006139 W= 0.247625 b= 0.815629\n",
      "Epoch:   800 cost= 0.077004515 W= 0.247742 b= 0.814787\n",
      "Epoch:   850 cost= 0.077003099 W= 0.247852 b= 0.813994\n",
      "Epoch:   900 cost= 0.077001810 W= 0.247956 b= 0.813247\n",
      "Epoch:   950 cost= 0.077000678 W= 0.248054 b= 0.812545\n",
      "Epoch:  1000 cost= 0.076999657 W= 0.248145 b= 0.811884\n",
      "Optimization Finished!\n",
      "Training cost= 0.0769997 W= 0.248145 b= 0.811884 \n",
      "\n"
     ]
    },
    {
     "data": {
      "image/png": "[encoded data removed]",
      "text/plain": [
       "<matplotlib.figure.Figure at 0x111a90890>"
      ]
     },
     "metadata": {},
     "output_type": "display_data"
    }
   ],
   "source": [
    "with tf.Session() as sess:\n",
    "    sess.run(init)\n",
    "    \n",
    "    for epoch in range(training_epochs):\n",
    "        for(x, y) in zip(train_X, train_Y):\n",
    "            sess.run(optimizer, feed_dict={X: x, Y: y})\n",
    "        \n",
    "        if(epoch+1) % display_step == 0:\n",
    "            c = sess.run(cost, feed_dict={X: train_X, Y:train_Y})\n",
    "            print \"Epoch: \", \"%4d\" % (epoch+1), \"cost=\", \"{:.9f}\".format(c), \\\n",
    "                \"W=\", sess.run(W), \"b=\", sess.run(b)\n",
    "    \n",
    "    print \"Optimization Finished!\"\n",
    "    training_cost = sess.run(cost, feed_dict={X: train_X, Y: train_Y})\n",
    "    print \"Training cost=\", training_cost, \"W=\", sess.run(W), \"b=\", sess.run(b), '\\n'\n",
    "    \n",
    "    plt.plot(train_X, train_Y, 'ro', label='Original data')\n",
    "    plt.plot(train_X, sess.run(W) * train_X + sess.run(b), label='Fitted line')\n",
    "    plt.legend()\n",
    "    plt.show()"
   ]
  },
  {
   "cell_type": "code",
   "execution_count": null,
   "metadata": {
    "collapsed": true
   },
   "outputs": [],
   "source": []
  }
 ],
 "metadata": {
  "kernelspec": {
   "display_name": "Python 2",
   "language": "python",
   "name": "python2"
  },
  "language_info": {
   "codemirror_mode": {
    "name": "ipython",
    "version": 2
   },
   "file_extension": ".py",
   "mimetype": "text/x-python",
   "name": "python",
   "nbconvert_exporter": "python",
   "pygments_lexer": "ipython2",
   "version": "2.7.12"
  }
 },
 "nbformat": 4,
 "nbformat_minor": 2
}
